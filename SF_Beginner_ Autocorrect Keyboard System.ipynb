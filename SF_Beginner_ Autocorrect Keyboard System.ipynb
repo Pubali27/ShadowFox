{
 "cells": [
  {
   "cell_type": "code",
   "execution_count": null,
   "id": "2668e0c5-b0b7-4920-a886-1df54c42ab22",
   "metadata": {},
   "outputs": [
    {
     "name": "stdout",
     "output_type": "stream",
     "text": [
      "Enter a sentence or 'exit' to stop.HELLO!\n",
      "The suggestions are:  No suggestions available.\n",
      "Enter a sentence or 'exit' to stop.\"Can you please help me?\n",
      "The suggestions are:  No suggestions available.\n"
     ]
    }
   ],
   "source": [
    "from collections import defaultdict, Counter\n",
    "\n",
    "sentence=[\"Hello!\", \"How are you?\", \"What are you doing?\", \"Are you ok?\", \"Have a nice day!\", \"Greetings for the day!\", \"Nice meeting you.\", \n",
    "          \"Are you free today?\", \"What's for dinner?\", \"Can we meet at the coffee shop?\", \"Let's do the assignment together.\", \"Such a nice painting\",\n",
    "          \"You are so pretty\", \"Let's go for a movie\", \"I am fine\", \"I am a student\", \"My name is Afia\", \"We have a meeting today\", \n",
    "          \"We went shopping.\", \"Are you free tonight?\", \"Can you please help me?\"]\n",
    "\n",
    "bigrams=defaultdict(list)\n",
    "\n",
    "for word in sentence:\n",
    "    words=word.lower().split()\n",
    "    for i in range(len(words)-1):\n",
    "        bigrams[words[i]].append(words[i+1])\n",
    "\n",
    "def next_word(next, k=5):\n",
    "    next=next.lower()\n",
    "    nw=bigrams.get(next, [])\n",
    "    if not nw:\n",
    "        return \"No suggestions available.\"\n",
    "    f=Counter(nw)\n",
    "    suggest=f.most_common(k)\n",
    "    return [w for w, _ in suggest]\n",
    "\n",
    "while True:\n",
    "    sent=input(\"Enter a sentence or 'exit' to stop.\")\n",
    "    if sent.lower()=='exit':\n",
    "        break\n",
    "    suggestions=next_word(sent)\n",
    "    print(\"The suggestions are: \", suggestions)\n"
   ]
  },
  {
   "cell_type": "code",
   "execution_count": null,
   "id": "4e30bd20",
   "metadata": {},
   "outputs": [],
   "source": []
  }
 ],
 "metadata": {
  "kernelspec": {
   "display_name": "Python 3 (ipykernel)",
   "language": "python",
   "name": "python3"
  },
  "language_info": {
   "codemirror_mode": {
    "name": "ipython",
    "version": 3
   },
   "file_extension": ".py",
   "mimetype": "text/x-python",
   "name": "python",
   "nbconvert_exporter": "python",
   "pygments_lexer": "ipython3",
   "version": "3.11.5"
  }
 },
 "nbformat": 4,
 "nbformat_minor": 5
}
